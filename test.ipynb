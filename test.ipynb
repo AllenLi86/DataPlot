{
 "cells": [
  {
   "cell_type": "code",
   "execution_count": 5,
   "metadata": {},
   "outputs": [],
   "source": [
    "import json\n",
    "\n",
    "# Python dict to JSON string\n",
    "python_dict = {\n",
    "    \"name\": \"John\",\n",
    "    \"age\": 30.39,\n",
    "    \"cities\": [\"New York\", \"London\"]\n",
    "}\n",
    "json_string = json.dumps(python_dict)\n",
    "\n",
    "# JSON string to Python dict\n",
    "decoded_dict = json.loads(json_string)\n"
   ]
  },
  {
   "cell_type": "code",
   "execution_count": null,
   "metadata": {},
   "outputs": [
    {
     "name": "stdout",
     "output_type": "stream",
     "text": [
      "{\"name\": \"John\", \"age\": 30.39, \"cities\": [\"New York\", \"London\"]}\n"
     ]
    }
   ],
   "source": [
    "print(type(json_string))"
   ]
  },
  {
   "cell_type": "code",
   "execution_count": 7,
   "metadata": {},
   "outputs": [
    {
     "name": "stdout",
     "output_type": "stream",
     "text": [
      "{'name': 'John', 'age': 30.39, 'cities': ['New York', 'London']}\n"
     ]
    }
   ],
   "source": [
    "print(decoded_dict)"
   ]
  },
  {
   "cell_type": "code",
   "execution_count": null,
   "metadata": {},
   "outputs": [],
   "source": [
    "import json\n",
    "\n",
    "# wc_data = {\n",
    "#     \"a\": \"John\",\n",
    "#     \"b\": 30.39,\n",
    "#     \"c\": [\"New York\", \"London\"]\n",
    "# }\n",
    "\n",
    "# # Writing to JSON file\n",
    "# with open('data.json', 'w') as file:\n",
    "#     json.dump(wc_data, file, indent=4)\n",
    "    \n",
    "filename = 'data.json'\n",
    "    \n",
    "def read_json(filename):\n",
    "    with open(filename, 'r') as file:\n",
    "        data = json.load(file)\n",
    "    return data\n",
    "\n",
    "def write_json(filename, data):\n",
    "    with open(filename, 'w') as file:\n",
    "        json.dump(data, file, indent=4)\n",
    "    "
   ]
  },
  {
   "cell_type": "code",
   "execution_count": 18,
   "metadata": {},
   "outputs": [
    {
     "name": "stdout",
     "output_type": "stream",
     "text": [
      "{'a': 100, 'b': 200, 'c': 100}\n"
     ]
    }
   ],
   "source": [
    "d = {\"a\": 100, \"b\": 200}\n",
    "new_word = {\"c\": 100}\n",
    "\n",
    "d.update(new_word)\n",
    "\n",
    "\n",
    "print(d)"
   ]
  },
  {
   "cell_type": "code",
   "execution_count": 16,
   "metadata": {},
   "outputs": [],
   "source": [
    "# new_word = {\"adewf\": [\"abc\", \"def\"]}\n",
    "\n",
    "# sum_data = read_json(filename)\n",
    "\n",
    "# sum_data.update(new_word)\n",
    "\n",
    "# write_json(filename, sum_data)\n",
    "\n",
    "def update_json(filename, new_data):\n",
    "    r_json = read_json(filename)\n",
    "    r_json.update(new_data)\n",
    "    write_json(filename, r_json)\n",
    "    \n",
    "# new_word = {\"weferfre\": [123, 456]}\n",
    "# update_json(filename, new_word)\n",
    "\n",
    "\n",
    "edit_word = {\"b\": 90}\n",
    "update_json(filename, edit_word)\n",
    "\n",
    "\n",
    "\n"
   ]
  },
  {
   "cell_type": "code",
   "execution_count": 8,
   "metadata": {},
   "outputs": [
    {
     "name": "stdout",
     "output_type": "stream",
     "text": [
      "{'name': 'Alex', 'age': 30.39, 'cities': ['New York', 'London'], 'car': 'Benz'}\n"
     ]
    }
   ],
   "source": [
    "# Reading from JSON file\n",
    "with open('data.json', 'r') as file:\n",
    "    loaded_data = json.load(file)\n",
    "    \n",
    "print(loaded_data)"
   ]
  },
  {
   "cell_type": "code",
   "execution_count": 6,
   "metadata": {},
   "outputs": [],
   "source": [
    "loaded_data[\"name\"] = \"Alex\"\n",
    "loaded_data[\"car\"] = \"Benz\"\n",
    "\n",
    "# Writing to JSON file\n",
    "with open('data.json', 'w') as file:\n",
    "    json.dump(loaded_data, file, indent=4)"
   ]
  },
  {
   "cell_type": "code",
   "execution_count": 10,
   "metadata": {},
   "outputs": [
    {
     "name": "stdout",
     "output_type": "stream",
     "text": [
      "*****\n",
      "****\n",
      "***\n",
      "**\n",
      "*\n"
     ]
    }
   ],
   "source": [
    "sum = \"*\" * 5\n",
    "# a = sum[0:4]\n",
    "# print(a)\n",
    "\n",
    "for i in range(5, 0, -1):\n",
    "    star = sum[:i]\n",
    "    print(star)\n"
   ]
  },
  {
   "cell_type": "code",
   "execution_count": null,
   "metadata": {},
   "outputs": [
    {
     "name": "stdout",
     "output_type": "stream",
     "text": [
      "[0, 1, 2, 5, 6, 7]\n",
      "0\n",
      "1\n",
      "2\n",
      "5\n",
      "6\n",
      "7\n"
     ]
    }
   ],
   "source": [
    "# 2*3\n",
    "# [0]*5  # [0, 0, 0, 0, 0]\n",
    "\n",
    "# def abc(*args):\n",
    "#     print(args)\n",
    "    \n",
    "# *  # unpacking operator  (=: 賦值)\n",
    "\n",
    "# unpacking iterable object\n",
    "print([*range(3)] + [*range(5, 8)])\n",
    "\n",
    "for i in [*range(3)] + [*range(5, 8)]:\n",
    "    print(i)\n",
    "\n"
   ]
  },
  {
   "cell_type": "code",
   "execution_count": null,
   "metadata": {},
   "outputs": [],
   "source": [
    "\n",
    "\n",
    "\n",
    "\n",
    "\n",
    "\n"
   ]
  }
 ],
 "metadata": {
  "kernelspec": {
   "display_name": "Python 3",
   "language": "python",
   "name": "python3"
  },
  "language_info": {
   "codemirror_mode": {
    "name": "ipython",
    "version": 3
   },
   "file_extension": ".py",
   "mimetype": "text/x-python",
   "name": "python",
   "nbconvert_exporter": "python",
   "pygments_lexer": "ipython3",
   "version": "3.9.7"
  }
 },
 "nbformat": 4,
 "nbformat_minor": 2
}
